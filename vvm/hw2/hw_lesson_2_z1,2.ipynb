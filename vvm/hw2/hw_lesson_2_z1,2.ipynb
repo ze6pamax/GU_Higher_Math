{
 "cells": [
  {
   "cell_type": "markdown",
   "metadata": {},
   "source": [
    "## 1. Задание \n",
    "#### Напишите уравнение параболы, проходящей через три точки (x,y): (1,2), (3,10), (5,1)"
   ]
  },
  {
   "cell_type": "markdown",
   "metadata": {},
   "source": [
    "Уравнение параболы имеет вид $$ y=ax^{2}+bx+c $$ \n",
    "\n",
    "Составим уравнение для каждой точки\n",
    "\n",
    "$$\n",
    "2 = a*1^{2}+b*1+c \\\\\n",
    "10 = a*3^{2}+b*3+c \\\\\n",
    "1 = a*5^{2}+b*5+c\n",
    "$$\n",
    "\n",
    "Эту систему можно решить с помощью матричной алгебры:\n",
    "```\n",
    "пусть Y - вектор из элементов слева от равно,\n",
    "пусть А - матрица 3x3 с коэффициентами при a,b,c.\n",
    "```\n",
    "Тогда коэффициенты a,b,c будут элементами вектора X = Y * A^(-1).\n",
    "\n",
    "Вычислим обратную матрицу A^(-1):"
   ]
  },
  {
   "cell_type": "code",
   "execution_count": 104,
   "metadata": {},
   "outputs": [],
   "source": [
    "import numpy as np\n",
    "A=np.array([[1,1,1],[9,3,1],[25,5,1]])\n",
    "Y=np.array([[2,10,1]])"
   ]
  },
  {
   "cell_type": "markdown",
   "metadata": {},
   "source": [
    "Обратная матрица можно вычислить только для квадратных матриц, у которых определитель не равен нулю."
   ]
  },
  {
   "cell_type": "code",
   "execution_count": 105,
   "metadata": {},
   "outputs": [
    {
     "data": {
      "text/plain": [
       "-15.999999999999998"
      ]
     },
     "execution_count": 105,
     "metadata": {},
     "output_type": "execute_result"
    }
   ],
   "source": [
    "d = np.linalg.det(A)\n",
    "d"
   ]
  },
  {
   "cell_type": "markdown",
   "metadata": {},
   "source": [
    "Дескриминант не равен нулю, значит можно вычислить обратную матрицу."
   ]
  },
  {
   "cell_type": "code",
   "execution_count": 106,
   "metadata": {},
   "outputs": [],
   "source": [
    "A1 = np.linalg.inv(A)"
   ]
  },
  {
   "cell_type": "markdown",
   "metadata": {},
   "source": [
    "Правильную ли мы получили обратную матрицу можно проверить умножив исходную на обратную, в результате должена получиться обратная матрица:"
   ]
  },
  {
   "cell_type": "code",
   "execution_count": 107,
   "metadata": {},
   "outputs": [],
   "source": [
    "E = A.dot(A1)"
   ]
  },
  {
   "cell_type": "code",
   "execution_count": 108,
   "metadata": {},
   "outputs": [
    {
     "data": {
      "text/plain": [
       "array([[ 1.00000000e+00, -2.22044605e-16,  1.11022302e-16],\n",
       "       [ 4.44089210e-16,  1.00000000e+00,  2.22044605e-16],\n",
       "       [ 0.00000000e+00,  0.00000000e+00,  1.00000000e+00]])"
      ]
     },
     "execution_count": 108,
     "metadata": {},
     "output_type": "execute_result"
    }
   ],
   "source": [
    "E"
   ]
  },
  {
   "cell_type": "markdown",
   "metadata": {},
   "source": [
    "Теперь вычислим вектор X, содержащий значения a,b,c"
   ]
  },
  {
   "cell_type": "code",
   "execution_count": 109,
   "metadata": {},
   "outputs": [],
   "source": [
    "X = Y.dot(A1)"
   ]
  },
  {
   "cell_type": "code",
   "execution_count": 110,
   "metadata": {},
   "outputs": [
    {
     "data": {
      "text/plain": [
       "array([[-7.875, 13.25 , -4.375]])"
      ]
     },
     "execution_count": 110,
     "metadata": {},
     "output_type": "execute_result"
    }
   ],
   "source": [
    "X"
   ]
  },
  {
   "cell_type": "markdown",
   "metadata": {},
   "source": [
    "Искомое уравнение имеет вид:\n",
    "\n",
    "$$\n",
    "y=-7,875x^{2}+13,25x-4,375\n",
    "$$"
   ]
  },
  {
   "cell_type": "markdown",
   "metadata": {},
   "source": [
    "## 2. Задание \n",
    "\n",
    "#### Известно, что свежий огурец на 99% состоит из воды. Месяц назад взвесили мешок со свежими огурцами. Получилось, что огурцов ровно 100 кг. Мешок убрали, а через месяц снова взвесили. Огурцы за это время усохли, и теперь вода составляет уже только 98% их веса. Сколько теперь (в кг) весят огурцы?"
   ]
  },
  {
   "cell_type": "markdown",
   "metadata": {},
   "source": [
    "Определим сколько сухого вещества было изначально, по идее это количество сухого вещества меняться не должно.\n",
    "100 кг огурцов из них 99% воды, значит сухого вещества должно быть 1 кг.\n",
    "\n",
    "Таким образом вес огурцов можно представить так:\n",
    "\n",
    "100 кг * 99% + 1 кг = 100 кг\n",
    "\n",
    "Огурцы убрали, через месяц снова взвесили.\n",
    "Используем формулу выше, но теперь мы не знаем сколько кг весит мешок, но знаем, что воды стало уже 98% + знаем, что сухого вещества по-прежднему осталось 1 кг, тогда составим уравнение и решим:\n",
    "\n",
    "```\n",
    "Х кг * 98% + 1 кг = Х кг\n",
    "Х кг - Х кг * 98% = 1 кг\n",
    "2% Х кг = 1 кг * 100%\n",
    "Х кг = 1 кг * (100%/2%) = 1 кг * 50 = 50 кг\n",
    "```\n",
    "\n",
    "\n",
    "#### Ответ: Мешок с огурцами стал весить 50 кг."
   ]
  },
  {
   "cell_type": "code",
   "execution_count": null,
   "metadata": {},
   "outputs": [],
   "source": []
  }
 ],
 "metadata": {
  "kernelspec": {
   "display_name": "Python 3",
   "language": "python",
   "name": "python3"
  },
  "language_info": {
   "codemirror_mode": {
    "name": "ipython",
    "version": 3
   },
   "file_extension": ".py",
   "mimetype": "text/x-python",
   "name": "python",
   "nbconvert_exporter": "python",
   "pygments_lexer": "ipython3",
   "version": "3.7.3"
  }
 },
 "nbformat": 4,
 "nbformat_minor": 2
}
